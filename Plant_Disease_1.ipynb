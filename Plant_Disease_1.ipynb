{
  "cells": [
    {
      "cell_type": "code",
      "execution_count": null,
      "metadata": {
        "id": "MgJV4SXqbAsp"
      },
      "outputs": [],
      "source": [
        "import numpy as np\n",
        "import pickle\n",
        "import cv2\n",
        "from os import listdir\n",
        "from google.colab import drive\n",
        "from sklearn.preprocessing import LabelBinarizer\n",
        "from keras.models import Sequential\n",
        "from keras.layers import BatchNormalization\n",
        "from keras.layers import Conv2D, MaxPooling2D\n",
        "from keras.layers import Activation, Flatten, Dropout, Dense\n",
        "from keras import backend as K\n",
        "from tensorflow.keras.preprocessing.image import ImageDataGenerator\n",
        "from keras.optimizers import Adam\n",
        "from keras.preprocessing import image\n",
        "from keras.preprocessing.image import img_to_array\n",
        "from sklearn.preprocessing import MultiLabelBinarizer\n",
        "from sklearn.model_selection import train_test_split\n",
        "import matplotlib.pyplot as plt"
      ]
    },
    {
      "cell_type": "code",
      "execution_count": null,
      "metadata": {
        "colab": {
          "base_uri": "https://localhost:8080/"
        },
        "id": "xufQPPg3clsJ",
        "outputId": "7d6b28ba-09ab-4196-cc8d-2ef2aed34b94"
      },
      "outputs": [
        {
          "output_type": "stream",
          "name": "stdout",
          "text": [
            "Mounted at /content/drive\n"
          ]
        }
      ],
      "source": [
        "drive.mount('/content/drive')"
      ]
    },
    {
      "cell_type": "code",
      "execution_count": null,
      "metadata": {
        "id": "ZWOsNRC9dhg5"
      },
      "outputs": [],
      "source": [
        "EPOCHS = 25\n",
        "INIT_LR = 1e-3\n",
        "BS = 32\n",
        "default_image_size = tuple((256, 256))\n",
        "width=256\n",
        "height=256\n",
        "depth=3"
      ]
    },
    {
      "cell_type": "code",
      "execution_count": null,
      "metadata": {
        "id": "5Rr717-ddqKb"
      },
      "outputs": [],
      "source": [
        "directory_root = '/content/drive/My Drive/PlantDataset/PlantVillage/'"
      ]
    },
    {
      "cell_type": "code",
      "execution_count": null,
      "metadata": {
        "id": "l5UiDqphdvcI"
      },
      "outputs": [],
      "source": [
        "def convert_image_to_array(image_dir):\n",
        "    try:\n",
        "        image = cv2.imread(image_dir)\n",
        "        if image is not None:\n",
        "            image = cv2.resize(image, default_image_size)\n",
        "            return img_to_array(image)\n",
        "        else:\n",
        "            return np.array([])\n",
        "    except Exception as e:\n",
        "        print(f\"Error : {e}\")\n",
        "        return None"
      ]
    },
    {
      "cell_type": "code",
      "execution_count": null,
      "metadata": {
        "colab": {
          "base_uri": "https://localhost:8080/"
        },
        "id": "efRqGbCxd6Kg",
        "outputId": "6c5da7e4-fbfa-4412-c729-697544a72f4d"
      },
      "outputs": [
        {
          "output_type": "stream",
          "name": "stdout",
          "text": [
            "[INFO] Loading images ...\n",
            "[INFO] Image loading completed\n",
            "[ERROR] No images or labels were loaded.\n"
          ]
        }
      ],
      "source": [
        "def convert_image_to_array(image_dir):\n",
        "    try:\n",
        "        image = cv2.imread(image_dir)\n",
        "        if image is not None:\n",
        "            image = cv2.resize(image, default_image_size)\n",
        "            return img_to_array(image)\n",
        "        else:\n",
        "            return np.array([])\n",
        "    except Exception as e:\n",
        "        print(f\"Error : {e}\")\n",
        "        return None\n",
        "\n",
        "image_list, label_list = [], []\n",
        "\n",
        "try:\n",
        "    print(\"[INFO] Loading images ...\")\n",
        "    root_dir = listdir(directory_root)\n",
        "    for directory in root_dir:\n",
        "        # remove .DS_Store from list\n",
        "        if directory == \".DS_Store\":\n",
        "            root_dir.remove(directory)\n",
        "\n",
        "    for plant_folder in root_dir:\n",
        "        plant_disease_folder_list = listdir(f\"{directory_root}/{plant_folder}\")\n",
        "\n",
        "        for disease_folder in plant_disease_folder_list:\n"
      ]
    },
    {
      "cell_type": "code",
      "execution_count": null,
      "metadata": {
        "colab": {
          "base_uri": "https://localhost:8080/"
        },
        "id": "8So6hoTahitX",
        "outputId": "333736de-8724-4f9e-ecbf-e7e333919313"
      },
      "outputs": [
        {
          "output_type": "stream",
          "name": "stdout",
          "text": [
            "Number of images: 18504\n",
            "Number of labels: 18504\n",
            "Classes:  ['Pepper__bell___Bacterial_spot' 'Pepper__bell___healthy'\n",
            " 'Tomato_Bacterial_spot' 'Tomato_Early_blight' 'Tomato_Late_blight'\n",
            " 'Tomato_Leaf_Mold' 'Tomato_Septoria_leaf_spot'\n",
            " 'Tomato_Spider_mites_Two_spotted_spider_mite' 'Tomato__Target_Spot'\n",
            " 'Tomato__Tomato_YellowLeaf__Curl_Virus' 'Tomato__Tomato_mosaic_virus'\n",
            " 'Tomato_healthy']\n"
          ]
        }
      ],
      "source": [
        "import os\n",
        "import numpy as np\n",
        "from tensorflow.keras.preprocessing.image import load_img, img_to_array\n",
        "from sklearn.preprocessing import LabelBinarizer\n",
        "import pickle\n",
        "\n",
        "# Initialize lists to store image data and labels\n",
        "image_list = []\n",
        "label_list = []\n",
        "\n",
        "# Specify the base directory\n",
        "image_dir = '/content/drive/My Drive/PlantDataset/PlantVillage/'\n",
        "\n",
        "# Supported image extensions\n",
        "image_extensions = ['.jpg', '.jpeg', '.png', '.JPG']\n",
        "\n",
        "try:\n",
        "    # Loop through directories and files\n",
        "    for label in os.listdir(image_dir):\n",
        "        label_path = os.path.join(image_dir, label)\n",
        "        if os.path.isdir(label_path):  # Check if it's a directory\n",
        "            for img_name in os.listdir(label_path):\n",
        "                img_path = os.path.join(label_path, img_name)\n",
        "                if os.path.isfile(img_path) and any(img_name.endswith(ext) for ext in image_extensions):  # Check if it's an image\n",
        "                    try:\n",
        "                        # Load and process the image\n",
        "                        img = load_img(img_path, target_size=(64, 64))  # Resize to a fixed size\n",
        "                        img_array = img_to_array(img)\n",
        "                        image_list.append(img_array)\n",
        "                        label_list.append(label)\n",
        "                    except Exception as e:\n",
        "                        print(f\"Error loading {img_path}: {e}\")\n",
        "\n",
        "    # Check if the lists are populated correctly\n",
        "    print(f\"Number of images: {len(image_list)}\")\n",
        "    print(f\"Number of labels: {len(label_list)}\")\n",
        "\n",
        "    # If lists are empty, raise an error\n",
        "    if len(label_list) == 0:\n",
        "        raise ValueError(\"Label list is empty. Check if image files and directories are being read correctly.\")\n",
        "\n",
        "    # Convert lists to numpy arrays\n",
        "    np_image_list = np.array(image_list, dtype=np.float16) / 255.0\n",
        "    label_binarizer = LabelBinarizer()\n",
        "    image_labels = label_binarizer.fit_transform(label_list)\n",
        "\n",
        "    # Save the label binarizer for later use\n",
        "    pickle.dump(label_binarizer, open('label_transform.pkl', 'wb'))\n",
        "\n",
        "    n_classes = len(label_binarizer.classes_)\n",
        "\n",
        "    # Print the classes\n",
        "    print(\"Classes: \", label_binarizer.classes_)\n",
        "\n",
        "except Exception as e:\n",
        "    print(f\"Error: {e}\")\n"
      ]
    },
    {
      "cell_type": "code",
      "execution_count": null,
      "metadata": {
        "id": "grE-mfXnnvy4"
      },
      "outputs": [],
      "source": [
        "x_train, x_test, y_train, y_test = train_test_split(np_image_list, image_labels, test_size=0.2, random_state=42)"
      ]
    },
    {
      "cell_type": "code",
      "execution_count": null,
      "metadata": {
        "id": "egWhENIan0V_"
      },
      "outputs": [],
      "source": [
        "# Data augmentation\n",
        "\n",
        "aug = ImageDataGenerator(\n",
        "    rotation_range=30,  # Increase rotation\n",
        "    width_shift_range=0.2,  # Increase shift ranges\n",
        "    height_shift_range=0.2,\n",
        "    shear_range=0.3,  # Increase shear\n",
        "    zoom_range=0.3,  # Increase zoom\n",
        "    horizontal_flip=True,\n",
        "    fill_mode=\"nearest\")\n"
      ]
    },
    {
      "cell_type": "code",
      "execution_count": null,
      "metadata": {
        "id": "dQvHZK8eoFWt"
      },
      "outputs": [],
      "source": [
        "from tensorflow.keras.models import Sequential\n",
        "from tensorflow.keras.layers import Input, Conv2D, Activation, BatchNormalization, MaxPooling2D, Dropout, Flatten, Dense\n",
        "from tensorflow.keras.optimizers import Adam\n",
        "\n",
        "# Initialize the Sequential model\n",
        "model = Sequential()\n",
        "\n",
        "# Define the input shape\n",
        "inputShape = (64, 64, 3)  # Assuming images are resized to 64x64x3\n",
        "chanDim = -1\n",
        "\n",
        "# Add the Input layer\n",
        "model.add(Input(shape=inputShape))\n",
        "\n",
        "# Add the layers\n",
        "model.add(Conv2D(32, (3, 3), padding=\"same\"))\n",
        "model.add(Activation(\"relu\"))\n",
        "model.add(BatchNormalization(axis=chanDim))\n",
        "model.add(MaxPooling2D(pool_size=(3, 3)))\n",
        "model.add(Dropout(0.25))\n",
        "\n",
        "model.add(Conv2D(64, (3, 3), padding=\"same\"))\n",
        "model.add(Activation(\"relu\"))\n",
        "model.add(BatchNormalization(axis=chanDim))\n",
        "model.add(Conv2D(64, (3, 3), padding=\"same\"))\n",
        "model.add(Activation(\"relu\"))\n",
        "model.add(BatchNormalization(axis=chanDim))\n",
        "model.add(MaxPooling2D(pool_size=(2, 2)))\n",
        "model.add(Dropout(0.25))\n",
        "\n",
        "model.add(Conv2D(128, (3, 3), padding=\"same\"))\n",
        "model.add(Activation(\"relu\"))\n",
        "model.add(BatchNormalization(axis=chanDim))\n",
        "model.add(Conv2D(128, (3, 3), padding=\"same\"))\n",
        "model.add(Activation(\"relu\"))\n",
        "model.add(BatchNormalization(axis=chanDim))\n",
        "model.add(MaxPooling2D(pool_size=(2, 2)))\n",
        "model.add(Dropout(0.25))\n",
        "\n",
        "model.add(Flatten())\n",
        "model.add(Dense(2048))  # Match the flattened size here\n",
        "model.add(Activation(\"relu\"))\n",
        "model.add(BatchNormalization())\n",
        "model.add(Dropout(0.5))\n",
        "\n",
        "model.add(Dense(n_classes))\n",
        "model.add(Activation(\"softmax\"))\n",
        "\n",
        "# Compile the model\n",
        "opt = Adam(learning_rate=INIT_LR)\n",
        "model.compile(loss=\"categorical_crossentropy\", optimizer=opt, metrics=[\"accuracy\"])"
      ]
    },
    {
      "cell_type": "code",
      "source": [
        "print(\"[INFO] Training network...\")\n",
        "\n",
        "history = model.fit(\n",
        "    aug.flow(x_train, y_train, batch_size=BS),\n",
        "    validation_data=(x_test, y_test),\n",
        "    steps_per_epoch=len(x_train) // BS,\n",
        "    epochs=EPOCHS, verbose=1\n",
        ")"
      ],
      "metadata": {
        "colab": {
          "base_uri": "https://localhost:8080/"
        },
        "id": "u6epwozC9SyA",
        "outputId": "bbe0745d-feb3-4f8e-c302-a542e9070baa"
      },
      "execution_count": null,
      "outputs": [
        {
          "metadata": {
            "tags": null
          },
          "name": "stdout",
          "output_type": "stream",
          "text": [
            "[INFO] Training network...\n",
            "Epoch 1/25\n"
          ]
        },
        {
          "metadata": {
            "tags": null
          },
          "name": "stderr",
          "output_type": "stream",
          "text": [
            "/usr/local/lib/python3.10/dist-packages/keras/src/trainers/data_adapters/py_dataset_adapter.py:122: UserWarning: Your `PyDataset` class should call `super().__init__(**kwargs)` in its constructor. `**kwargs` can include `workers`, `use_multiprocessing`, `max_queue_size`. Do not pass these arguments to `fit()`, as they will be ignored.\n",
            "  self._warn_if_super_not_called()\n"
          ]
        },
        {
          "metadata": {
            "tags": null
          },
          "name": "stdout",
          "output_type": "stream",
          "text": [
            "\u001b[1m462/462\u001b[0m \u001b[32m━━━━━━━━━━━━━━━━━━━━\u001b[0m\u001b[37m\u001b[0m \u001b[1m301s\u001b[0m 633ms/step - accuracy: 0.5313 - loss: 1.7677 - val_accuracy: 0.3812 - val_loss: 3.9733\n",
            "Epoch 2/25\n",
            "\u001b[1m  1/462\u001b[0m \u001b[37m━━━━━━━━━━━━━━━━━━━━\u001b[0m \u001b[1m3:54\u001b[0m 508ms/step - accuracy: 0.7188 - loss: 0.8514"
          ]
        },
        {
          "metadata": {
            "tags": null
          },
          "name": "stderr",
          "output_type": "stream",
          "text": [
            "/usr/lib/python3.10/contextlib.py:153: UserWarning: Your input ran out of data; interrupting training. Make sure that your dataset or generator can generate at least `steps_per_epoch * epochs` batches. You may need to use the `.repeat()` function when building your dataset.\n",
            "  self.gen.throw(typ, value, traceback)\n"
          ]
        },
        {
          "output_type": "stream",
          "name": "stdout",
          "text": [
            "\u001b[1m462/462\u001b[0m \u001b[32m━━━━━━━━━━━━━━━━━━━━\u001b[0m\u001b[37m\u001b[0m \u001b[1m14s\u001b[0m 29ms/step - accuracy: 0.7188 - loss: 0.8514 - val_accuracy: 0.3748 - val_loss: 4.0271\n",
            "Epoch 3/25\n",
            "\u001b[1m462/462\u001b[0m \u001b[32m━━━━━━━━━━━━━━━━━━━━\u001b[0m\u001b[37m\u001b[0m \u001b[1m300s\u001b[0m 617ms/step - accuracy: 0.7297 - loss: 0.8457 - val_accuracy: 0.5882 - val_loss: 2.6239\n",
            "Epoch 4/25\n",
            "\u001b[1m462/462\u001b[0m \u001b[32m━━━━━━━━━━━━━━━━━━━━\u001b[0m\u001b[37m\u001b[0m \u001b[1m13s\u001b[0m 28ms/step - accuracy: 0.7500 - loss: 0.9532 - val_accuracy: 0.5866 - val_loss: 2.4657\n",
            "Epoch 5/25\n",
            "\u001b[1m462/462\u001b[0m \u001b[32m━━━━━━━━━━━━━━━━━━━━\u001b[0m\u001b[37m\u001b[0m \u001b[1m311s\u001b[0m 620ms/step - accuracy: 0.7806 - loss: 0.6984 - val_accuracy: 0.6571 - val_loss: 1.5637\n",
            "Epoch 6/25\n",
            "\u001b[1m462/462\u001b[0m \u001b[32m━━━━━━━━━━━━━━━━━━━━\u001b[0m\u001b[37m\u001b[0m \u001b[1m21s\u001b[0m 44ms/step - accuracy: 0.7812 - loss: 0.5798 - val_accuracy: 0.6612 - val_loss: 1.4969\n",
            "Epoch 7/25\n",
            "\u001b[1m462/462\u001b[0m \u001b[32m━━━━━━━━━━━━━━━━━━━━\u001b[0m\u001b[37m\u001b[0m \u001b[1m294s\u001b[0m 606ms/step - accuracy: 0.8062 - loss: 0.6138 - val_accuracy: 0.7201 - val_loss: 0.9756\n",
            "Epoch 8/25\n",
            "\u001b[1m462/462\u001b[0m \u001b[32m━━━━━━━━━━━━━━━━━━━━\u001b[0m\u001b[37m\u001b[0m \u001b[1m14s\u001b[0m 28ms/step - accuracy: 0.8125 - loss: 0.4933 - val_accuracy: 0.7120 - val_loss: 1.0497\n",
            "Epoch 9/25\n",
            "\u001b[1m462/462\u001b[0m \u001b[32m━━━━━━━━━━━━━━━━━━━━\u001b[0m\u001b[37m\u001b[0m \u001b[1m280s\u001b[0m 604ms/step - accuracy: 0.8398 - loss: 0.4792 - val_accuracy: 0.6209 - val_loss: 2.3560\n",
            "Epoch 10/25\n",
            "\u001b[1m462/462\u001b[0m \u001b[32m━━━━━━━━━━━━━━━━━━━━\u001b[0m\u001b[37m\u001b[0m \u001b[1m21s\u001b[0m 44ms/step - accuracy: 0.9062 - loss: 0.3689 - val_accuracy: 0.5998 - val_loss: 2.5359\n",
            "Epoch 11/25\n",
            "\u001b[1m462/462\u001b[0m \u001b[32m━━━━━━━━━━━━━━━━━━━━\u001b[0m\u001b[37m\u001b[0m \u001b[1m284s\u001b[0m 613ms/step - accuracy: 0.8539 - loss: 0.4653 - val_accuracy: 0.4550 - val_loss: 5.0213\n",
            "Epoch 12/25\n",
            "\u001b[1m462/462\u001b[0m \u001b[32m━━━━━━━━━━━━━━━━━━━━\u001b[0m\u001b[37m\u001b[0m \u001b[1m14s\u001b[0m 30ms/step - accuracy: 0.8750 - loss: 0.4867 - val_accuracy: 0.4358 - val_loss: 5.3286\n",
            "Epoch 13/25\n",
            "\u001b[1m462/462\u001b[0m \u001b[32m━━━━━━━━━━━━━━━━━━━━\u001b[0m\u001b[37m\u001b[0m \u001b[1m274s\u001b[0m 594ms/step - accuracy: 0.8653 - loss: 0.4231 - val_accuracy: 0.4683 - val_loss: 4.1991\n",
            "Epoch 14/25\n",
            "\u001b[1m462/462\u001b[0m \u001b[32m━━━━━━━━━━━━━━━━━━━━\u001b[0m\u001b[37m\u001b[0m \u001b[1m13s\u001b[0m 28ms/step - accuracy: 0.8125 - loss: 0.7129 - val_accuracy: 0.4572 - val_loss: 4.1733\n",
            "Epoch 15/25\n",
            "\u001b[1m462/462\u001b[0m \u001b[32m━━━━━━━━━━━━━━━━━━━━\u001b[0m\u001b[37m\u001b[0m \u001b[1m276s\u001b[0m 598ms/step - accuracy: 0.8594 - loss: 0.4270 - val_accuracy: 0.6096 - val_loss: 1.9912\n",
            "Epoch 16/25\n",
            "\u001b[1m462/462\u001b[0m \u001b[32m━━━━━━━━━━━━━━━━━━━━\u001b[0m\u001b[37m\u001b[0m \u001b[1m21s\u001b[0m 44ms/step - accuracy: 0.9688 - loss: 0.0941 - val_accuracy: 0.5998 - val_loss: 2.1220\n",
            "Epoch 17/25\n",
            "\u001b[1m462/462\u001b[0m \u001b[32m━━━━━━━━━━━━━━━━━━━━\u001b[0m\u001b[37m\u001b[0m \u001b[1m313s\u001b[0m 623ms/step - accuracy: 0.8893 - loss: 0.3512 - val_accuracy: 0.6325 - val_loss: 2.5426\n",
            "Epoch 18/25\n",
            "\u001b[1m462/462\u001b[0m \u001b[32m━━━━━━━━━━━━━━━━━━━━\u001b[0m\u001b[37m\u001b[0m \u001b[1m13s\u001b[0m 28ms/step - accuracy: 1.0000 - loss: 0.0697 - val_accuracy: 0.6587 - val_loss: 2.0967\n",
            "Epoch 19/25\n",
            "\u001b[1m462/462\u001b[0m \u001b[32m━━━━━━━━━━━━━━━━━━━━\u001b[0m\u001b[37m\u001b[0m \u001b[1m301s\u001b[0m 606ms/step - accuracy: 0.8836 - loss: 0.3588 - val_accuracy: 0.6079 - val_loss: 4.6528\n",
            "Epoch 20/25\n",
            "\u001b[1m462/462\u001b[0m \u001b[32m━━━━━━━━━━━━━━━━━━━━\u001b[0m\u001b[37m\u001b[0m \u001b[1m14s\u001b[0m 28ms/step - accuracy: 0.8125 - loss: 0.4637 - val_accuracy: 0.6423 - val_loss: 3.8836\n",
            "Epoch 21/25\n",
            "\u001b[1m462/462\u001b[0m \u001b[32m━━━━━━━━━━━━━━━━━━━━\u001b[0m\u001b[37m\u001b[0m \u001b[1m304s\u001b[0m 597ms/step - accuracy: 0.9011 - loss: 0.3140 - val_accuracy: 0.8379 - val_loss: 0.6992\n",
            "Epoch 22/25\n",
            "\u001b[1m462/462\u001b[0m \u001b[32m━━━━━━━━━━━━━━━━━━━━\u001b[0m\u001b[37m\u001b[0m \u001b[1m14s\u001b[0m 29ms/step - accuracy: 0.8438 - loss: 0.4914 - val_accuracy: 0.8422 - val_loss: 0.6759\n",
            "Epoch 23/25\n",
            "\u001b[1m462/462\u001b[0m \u001b[32m━━━━━━━━━━━━━━━━━━━━\u001b[0m\u001b[37m\u001b[0m \u001b[1m287s\u001b[0m 621ms/step - accuracy: 0.8993 - loss: 0.3134 - val_accuracy: 0.7252 - val_loss: 1.8681\n",
            "Epoch 24/25\n",
            "\u001b[1m462/462\u001b[0m \u001b[32m━━━━━━━━━━━━━━━━━━━━\u001b[0m\u001b[37m\u001b[0m \u001b[1m13s\u001b[0m 28ms/step - accuracy: 0.8438 - loss: 0.4915 - val_accuracy: 0.7298 - val_loss: 1.9253\n",
            "Epoch 25/25\n",
            "\u001b[1m462/462\u001b[0m \u001b[32m━━━━━━━━━━━━━━━━━━━━\u001b[0m\u001b[37m\u001b[0m \u001b[1m276s\u001b[0m 596ms/step - accuracy: 0.9020 - loss: 0.2945 - val_accuracy: 0.6760 - val_loss: 3.2568\n"
          ]
        }
      ]
    },
    {
      "cell_type": "code",
      "source": [
        "\n",
        "# Plot training & validation accuracy and loss\n",
        "acc = history.history['accuracy']\n",
        "val_acc = history.history['val_accuracy']\n",
        "loss = history.history['loss']\n",
        "val_loss = history.history['val_loss']\n",
        "epochs = range(1, len(acc) + 1)\n"
      ],
      "metadata": {
        "id": "b1ptICtVScR9"
      },
      "execution_count": null,
      "outputs": []
    },
    {
      "cell_type": "code",
      "source": [
        "plt.plot(epochs, acc, 'b', label='Training accuracy')\n",
        "plt.plot(epochs, val_acc, 'r', label='Validation accuracy')\n",
        "plt.title('Training and Validation Accuracy')\n",
        "plt.legend()"
      ],
      "metadata": {
        "colab": {
          "base_uri": "https://localhost:8080/",
          "height": 469
        },
        "id": "77hiZbwWiF0G",
        "outputId": "4d75bdcd-3214-4691-974b-39d23cd961a7"
      },
      "execution_count": null,
      "outputs": [
        {
          "output_type": "execute_result",
          "data": {
            "text/plain": [
              "<matplotlib.legend.Legend at 0x786cf6404f40>"
            ]
          },
          "metadata": {},
          "execution_count": 27
        },
        {
          "output_type": "display_data",
          "data": {
            "text/plain": [
              "<Figure size 640x480 with 1 Axes>"
            ],
            "image/png": "[encoded data removed]"
          },
          "metadata": {}
        }
      ]
    },
    {
      "cell_type": "code",
      "source": [
        "plt.figure()\n",
        "plt.plot(epochs, loss, 'b', label='Training loss')\n",
        "plt.plot(epochs, val_loss, 'r', label='Validation loss')\n",
        "plt.title('Training and Validation Loss')\n",
        "plt.legend()\n",
        "plt.show()"
      ],
      "metadata": {
        "colab": {
          "base_uri": "https://localhost:8080/",
          "height": 452
        },
        "id": "MYXi_GrziJfh",
        "outputId": "9be7fb12-4633-42d9-febe-57a36f8e8187"
      },
      "execution_count": null,
      "outputs": [
        {
          "output_type": "display_data",
          "data": {
            "text/plain": [
              "<Figure size 640x480 with 1 Axes>"
            ],
            "image/png": "[encoded data removed]"
          },
          "metadata": {}
        }
      ]
    },
    {
      "cell_type": "code",
      "source": [
        "# Evaluate the model\n",
        "print(\"[INFO] Calculating model accuracy\")\n",
        "scores = model.evaluate(x_test, y_test)\n",
        "print(f\"Test Accuracy: {scores[1] * 100:.2f}%\")\n"
      ],
      "metadata": {
        "colab": {
          "base_uri": "https://localhost:8080/"
        },
        "id": "ho8op3WEiPG7",
        "outputId": "36726e8b-1366-4349-c0de-48401e44c0f2"
      },
      "execution_count": null,
      "outputs": [
        {
          "output_type": "stream",
          "name": "stdout",
          "text": [
            "[INFO] Calculating model accuracy\n",
            "\u001b[1m116/116\u001b[0m \u001b[32m━━━━━━━━━━━━━━━━━━━━\u001b[0m\u001b[37m\u001b[0m \u001b[1m14s\u001b[0m 123ms/step - accuracy: 0.6713 - loss: 3.3229\n",
            "Test Accuracy: 67.60%\n"
          ]
        }
      ]
    },
    {
      "cell_type": "code",
      "source": [
        "# Save the model\n",
        "print(\"[INFO] Saving model...\")\n",
        "model.save('plant_disease_model.h5')\n",
        "pickle.dump(model, open('cnn_model.pkl','wb'))"
      ],
      "metadata": {
        "colab": {
          "base_uri": "https://localhost:8080/"
        },
        "id": "golTubYCiT1P",
        "outputId": "ae5a6490-b9ef-4323-d3f1-7829e1ff06f4"
      },
      "execution_count": null,
      "outputs": [
        {
          "output_type": "stream",
          "name": "stderr",
          "text": [
            "WARNING:absl:You are saving your model as an HDF5 file via `model.save()` or `keras.saving.save_model(model)`. This file format is considered legacy. We recommend using instead the native Keras format, e.g. `model.save('my_model.keras')` or `keras.saving.save_model(model, 'my_model.keras')`. \n"
          ]
        },
        {
          "output_type": "stream",
          "name": "stdout",
          "text": [
            "[INFO] Saving model...\n"
          ]
        }
      ]
    },
    {
      "cell_type": "code",
      "source": [],
      "metadata": {
        "id": "G18zqQx0ikDZ"
      },
      "execution_count": null,
      "outputs": []
    }
  ],
  "metadata": {
    "colab": {
      "provenance": []
    },
    "kernelspec": {
      "display_name": "Python 3",
      "name": "python3"
    },
    "language_info": {
      "name": "python"
    }
  },
  "nbformat": 4,
  "nbformat_minor": 0
}