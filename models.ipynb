{
  "nbformat": 4,
  "nbformat_minor": 0,
  "metadata": {
    "colab": {
      "provenance": []
    },
    "kernelspec": {
      "name": "python3",
      "display_name": "Python 3"
    },
    "language_info": {
      "name": "python"
    }
  },
  "cells": [
    {
      "cell_type": "code",
      "source": [
        "# Import libraries\n",
        "import os\n",
        "import numpy as np\n",
        "import cv2\n",
        "from sklearn.model_selection import train_test_split\n",
        "from sklearn.svm import SVC\n",
        "from sklearn.ensemble import RandomForestClassifier\n",
        "from sklearn.metrics import classification_report, accuracy_score\n",
        "from skimage.feature import graycomatrix, graycoprops\n",
        "from google.colab import drive"
      ],
      "metadata": {
        "id": "27m3uLsIkwHM"
      },
      "execution_count": null,
      "outputs": []
    },
    {
      "cell_type": "code",
      "source": [
        "# Mount Google Drive\n",
        "drive.mount('/content/drive')"
      ],
      "metadata": {
        "colab": {
          "base_uri": "https://localhost:8080/"
        },
        "id": "apW6Aguskz9z",
        "outputId": "bf3dedad-6958-43a3-de68-e22b4d26bdab"
      },
      "execution_count": null,
      "outputs": [
        {
          "output_type": "stream",
          "name": "stdout",
          "text": [
            "Mounted at /content/drive\n"
          ]
        }
      ]
    },
    {
      "cell_type": "code",
      "source": [
        "# Define dataset path\n",
        "dataset_path = '/content/drive/My Drive/PlantVillage'"
      ],
      "metadata": {
        "id": "kCgPbmS1k3PJ"
      },
      "execution_count": null,
      "outputs": []
    },
    {
      "cell_type": "code",
      "source": [
        "# GLCM feature column names\n",
        "GLCM_COLUMNS = ['contrast', 'correlation', 'energy', 'homogeneity']"
      ],
      "metadata": {
        "id": "x-BEvPO0lFsU"
      },
      "execution_count": null,
      "outputs": []
    },
    {
      "cell_type": "code",
      "source": [
        "# Function to extract GLCM features\n",
        "def extract_glcm_features(image):\n",
        "    # Convert to grayscale\n",
        "    gray = cv2.cvtColor(image, cv2.COLOR_BGR2GRAY)\n",
        "    # Compute GLCM matrix\n",
        "    glcm = graycomatrix(gray, distances=[1], angles=[0], levels=256, symmetric=True, normed=True)\n",
        "    # Extract properties\n",
        "    contrast = graycoprops(glcm, 'contrast')[0, 0]\n",
        "    correlation = graycoprops(glcm, 'correlation')[0, 0]\n",
        "    energy = graycoprops(glcm, 'energy')[0, 0]\n",
        "    homogeneity = graycoprops(glcm, 'homogeneity')[0, 0]\n",
        "    return [contrast, correlation, energy, homogeneity]"
      ],
      "metadata": {
        "id": "LwDihT-DlGt2"
      },
      "execution_count": null,
      "outputs": []
    },
    {
      "cell_type": "code",
      "source": [
        "# Function to extract histogram features\n",
        "def extract_histogram_features(image):\n",
        "    # Convert to HSV\n",
        "    hsv = cv2.cvtColor(image, cv2.COLOR_BGR2HSV)\n",
        "    # Compute histograms for each channel\n",
        "    h_hist = cv2.calcHist([hsv], [0], None, [256], [0, 256]).flatten()\n",
        "    s_hist = cv2.calcHist([hsv], [1], None, [256], [0, 256]).flatten()\n",
        "    v_hist = cv2.calcHist([hsv], [2], None, [256], [0, 256]).flatten()\n",
        "    # Normalize and combine histograms\n",
        "    h_hist = h_hist / h_hist.sum()\n",
        "    s_hist = s_hist / s_hist.sum()\n",
        "    v_hist = v_hist / v_hist.sum()\n",
        "    return np.concatenate([h_hist, s_hist, v_hist])"
      ],
      "metadata": {
        "id": "X1l2XXJrlJrg"
      },
      "execution_count": null,
      "outputs": []
    },
    {
      "cell_type": "code",
      "source": [
        "# Load images and extract features\n",
        "def load_data_and_extract_features(dataset_path):\n",
        "    X = []  # Feature matrix\n",
        "    y = []  # Labels\n",
        "    classes = os.listdir(dataset_path)\n",
        "\n",
        "    for label, class_name in enumerate(classes):\n",
        "        class_path = os.path.join(dataset_path, class_name)\n",
        "        if os.path.isdir(class_path):\n",
        "            for img_name in os.listdir(class_path):\n",
        "                img_path = os.path.join(class_path, img_name)\n",
        "                image = cv2.imread(img_path)\n",
        "                if image is not None:\n",
        "                    # Resize image for uniformity\n",
        "                    image = cv2.resize(image, (128, 128))\n",
        "                    # Extract features\n",
        "                    glcm_features = extract_glcm_features(image)\n",
        "                    histogram_features = extract_histogram_features(image)\n",
        "                    # Combine features\n",
        "                    features = glcm_features + histogram_features.tolist()\n",
        "                    X.append(features)\n",
        "                    y.append(label)\n",
        "\n",
        "    return np.array(X), np.array(y), classes"
      ],
      "metadata": {
        "id": "bH9ej13SlMoA"
      },
      "execution_count": null,
      "outputs": []
    },
    {
      "cell_type": "code",
      "source": [
        "# Load dataset and extract features\n",
        "X, y, class_names = load_data_and_extract_features(dataset_path)"
      ],
      "metadata": {
        "id": "lXJFLo4eneNA"
      },
      "execution_count": null,
      "outputs": []
    },
    {
      "cell_type": "code",
      "source": [
        "# Define column names for printing\n",
        "histogram_columns = [f'hist_channel_{i+1}_bin_{j+1}' for i in range(3) for j in range(256)]\n",
        "columns = GLCM_COLUMNS + histogram_columns"
      ],
      "metadata": {
        "id": "Nbsr3wMinsSy"
      },
      "execution_count": null,
      "outputs": []
    },
    {
      "cell_type": "code",
      "source": [
        "# Print the feature matrix with column names\n",
        "import pandas as pd\n",
        "feature_df = pd.DataFrame(X, columns=columns)\n",
        "feature_df['Label'] = y\n",
        "print(\"Feature Matrix (with GLCM and histogram features):\")\n",
        "print(feature_df.head())"
      ],
      "metadata": {
        "colab": {
          "base_uri": "https://localhost:8080/"
        },
        "id": "kvsJ7sEpnssv",
        "outputId": "1f3cfde5-dbd7-4eab-db20-ee2952c59ca7"
      },
      "execution_count": null,
      "outputs": [
        {
          "output_type": "stream",
          "name": "stdout",
          "text": [
            "Feature Matrix (with GLCM and histogram features):\n",
            "     contrast  correlation    energy  homogeneity  hist_channel_1_bin_1  \\\n",
            "0  718.481422     0.763072  0.013868     0.069130              0.004272   \n",
            "1  453.110974     0.887714  0.020153     0.107413              0.011292   \n",
            "2  181.731361     0.791887  0.020238     0.103961              0.002686   \n",
            "3  741.419906     0.780671  0.013752     0.071793              0.005981   \n",
            "4  694.242372     0.723660  0.014731     0.071990              0.004333   \n",
            "\n",
            "   hist_channel_1_bin_2  hist_channel_1_bin_3  hist_channel_1_bin_4  \\\n",
            "0                   0.0              0.000000              0.002502   \n",
            "1                   0.0              0.000122              0.001770   \n",
            "2                   0.0              0.000000              0.000000   \n",
            "3                   0.0              0.000000              0.000061   \n",
            "4                   0.0              0.000610              0.005432   \n",
            "\n",
            "   hist_channel_1_bin_5  hist_channel_1_bin_6  ...  hist_channel_3_bin_248  \\\n",
            "0              0.000427              0.000977  ...                     0.0   \n",
            "1              0.001038              0.001038  ...                     0.0   \n",
            "2              0.000000              0.000000  ...                     0.0   \n",
            "3              0.000488              0.000366  ...                     0.0   \n",
            "4              0.000366              0.004211  ...                     0.0   \n",
            "\n",
            "   hist_channel_3_bin_249  hist_channel_3_bin_250  hist_channel_3_bin_251  \\\n",
            "0                     0.0                     0.0                     0.0   \n",
            "1                     0.0                     0.0                     0.0   \n",
            "2                     0.0                     0.0                     0.0   \n",
            "3                     0.0                     0.0                     0.0   \n",
            "4                     0.0                     0.0                     0.0   \n",
            "\n",
            "   hist_channel_3_bin_252  hist_channel_3_bin_253  hist_channel_3_bin_254  \\\n",
            "0                     0.0                     0.0                     0.0   \n",
            "1                     0.0                     0.0                     0.0   \n",
            "2                     0.0                     0.0                     0.0   \n",
            "3                     0.0                     0.0                     0.0   \n",
            "4                     0.0                     0.0                     0.0   \n",
            "\n",
            "   hist_channel_3_bin_255  hist_channel_3_bin_256  Label  \n",
            "0                     0.0                     0.0      0  \n",
            "1                     0.0                     0.0      0  \n",
            "2                     0.0                     0.0      0  \n",
            "3                     0.0                     0.0      0  \n",
            "4                     0.0                     0.0      0  \n",
            "\n",
            "[5 rows x 773 columns]\n"
          ]
        }
      ]
    },
    {
      "cell_type": "code",
      "source": [
        "# Split into train and test sets\n",
        "X_train, X_test, y_train, y_test = train_test_split(X, y, test_size=0.2, random_state=42)"
      ],
      "metadata": {
        "id": "BFxNrWePnuYM"
      },
      "execution_count": null,
      "outputs": []
    },
    {
      "cell_type": "code",
      "source": [
        "# Train SVM classifier\n",
        "svm_model = SVC(kernel='linear', probability=True)\n",
        "svm_model.fit(X_train, y_train)\n",
        "y_pred_svm = svm_model.predict(X_test)"
      ],
      "metadata": {
        "id": "09TjrxXPnxQr"
      },
      "execution_count": null,
      "outputs": []
    },
    {
      "cell_type": "code",
      "source": [
        "# Evaluate SVM\n",
        "print(\"\\nSVM Classification Report:\")\n",
        "print(classification_report(y_test, y_pred_svm, target_names=class_names))\n",
        "print(\"SVM Accuracy:\", accuracy_score(y_test, y_pred_svm))"
      ],
      "metadata": {
        "colab": {
          "base_uri": "https://localhost:8080/"
        },
        "id": "g7vbkfNwn2CK",
        "outputId": "b7d90f0f-b9c6-4cef-9f68-9ea16b8accde"
      },
      "execution_count": null,
      "outputs": [
        {
          "output_type": "stream",
          "name": "stdout",
          "text": [
            "\n",
            "SVM Classification Report:\n",
            "                                             precision    recall  f1-score   support\n",
            "\n",
            "                             Tomato_healthy       0.94      0.94      0.94       307\n",
            "                         Tomato_Late_blight       0.73      0.71      0.72       378\n",
            "                      Tomato_Bacterial_spot       0.84      0.87      0.86       419\n",
            "Tomato_Spider_mites_Two_spotted_spider_mite       0.78      0.76      0.77       343\n",
            "                        Tomato_Early_blight       0.88      0.49      0.63       233\n",
            "                  Tomato_Septoria_leaf_spot       0.77      0.81      0.79       359\n",
            "                Tomato__Tomato_mosaic_virus       0.87      0.60      0.71        78\n",
            "                           Tomato_Leaf_Mold       0.74      0.83      0.78       207\n",
            "                        Tomato__Target_Spot       0.74      0.83      0.78       292\n",
            "      Tomato__Tomato_YellowLeaf__Curl_Virus       0.79      0.90      0.84       613\n",
            "                     Pepper__bell___healthy       0.88      0.83      0.85       290\n",
            "              Pepper__bell___Bacterial_spot       0.88      0.77      0.82       179\n",
            "\n",
            "                                   accuracy                           0.81      3698\n",
            "                                  macro avg       0.82      0.78      0.79      3698\n",
            "                               weighted avg       0.81      0.81      0.80      3698\n",
            "\n",
            "SVM Accuracy: 0.806652244456463\n"
          ]
        }
      ]
    },
    {
      "cell_type": "code",
      "source": [
        "# Train Random Forest classifier\n",
        "rf_model = RandomForestClassifier(n_estimators=100, random_state=42)\n",
        "rf_model.fit(X_train, y_train)\n",
        "y_pred_rf = rf_model.predict(X_test)"
      ],
      "metadata": {
        "id": "OOiAxsUvn2S8"
      },
      "execution_count": null,
      "outputs": []
    },
    {
      "cell_type": "code",
      "source": [
        "# Evaluate Random Forest\n",
        "print(\"\\nRandom Forest Classification Report:\")\n",
        "print(classification_report(y_test, y_pred_rf, target_names=class_names))\n",
        "print(\"Random Forest Accuracy:\", accuracy_score(y_test, y_pred_rf))"
      ],
      "metadata": {
        "colab": {
          "base_uri": "https://localhost:8080/"
        },
        "id": "RCaN8Mkwn4GR",
        "outputId": "ad64412a-9cf7-4bfb-e2d4-1b244e1ccf89"
      },
      "execution_count": null,
      "outputs": [
        {
          "metadata": {
            "tags": null
          },
          "name": "stdout",
          "output_type": "stream",
          "text": [
            "\n",
            "Random Forest Classification Report:\n",
            "                                             precision    recall  f1-score   support\n",
            "\n",
            "                             Tomato_healthy       0.99      1.00      1.00       307\n",
            "                         Tomato_Late_blight       0.92      0.93      0.92       378\n",
            "                      Tomato_Bacterial_spot       0.92      0.94      0.93       419\n",
            "Tomato_Spider_mites_Two_spotted_spider_mite       0.96      0.94      0.95       343\n",
            "                        Tomato_Early_blight       0.91      0.83      0.87       233\n",
            "                  Tomato_Septoria_leaf_spot       0.96      0.95      0.95       359\n",
            "                Tomato__Tomato_mosaic_virus       0.99      0.99      0.99        78\n",
            "                           Tomato_Leaf_Mold       0.99      0.97      0.98       207\n",
            "                        Tomato__Target_Spot       0.93      0.93      0.93       292\n",
            "      Tomato__Tomato_YellowLeaf__Curl_Virus       0.94      0.98      0.96       613\n",
            "                     Pepper__bell___healthy       0.97      0.98      0.97       290\n",
            "              Pepper__bell___Bacterial_spot       0.94      0.93      0.93       179\n",
            "\n",
            "                                   accuracy                           0.95      3698\n",
            "                                  macro avg       0.95      0.95      0.95      3698\n",
            "                               weighted avg       0.95      0.95      0.95      3698\n",
            "\n",
            "Random Forest Accuracy: 0.9472687939426717\n"
          ]
        }
      ]
    },
    {
      "cell_type": "code",
      "source": [
        "# Save the feature matrix as an Excel file\n",
        "feature_df.to_excel(\"feature_matrix.xlsx\", index=False)\n",
        "\n",
        "# Download the file in Google Colab\n",
        "from google.colab import files\n",
        "files.download(\"feature_matrix.xlsx\")\n"
      ],
      "metadata": {
        "colab": {
          "base_uri": "https://localhost:8080/",
          "height": 17
        },
        "id": "j9l57hyOqwi6",
        "outputId": "2192ec1e-0661-40d5-87c7-f0be38a909b2"
      },
      "execution_count": null,
      "outputs": [
        {
          "output_type": "display_data",
          "data": {
            "text/plain": [
              "<IPython.core.display.Javascript object>"
            ],
            "application/javascript": [
              "\n",
              "    async function download(id, filename, size) {\n",
              "      if (!google.colab.kernel.accessAllowed) {\n",
              "        return;\n",
              "      }\n",
              "      const div = document.createElement('div');\n",
              "      const label = document.createElement('label');\n",
              "      label.textContent = `Downloading \"${filename}\": `;\n",
              "      div.appendChild(label);\n",
              "      const progress = document.createElement('progress');\n",
              "      progress.max = size;\n",
              "      div.appendChild(progress);\n",
              "      document.body.appendChild(div);\n",
              "\n",
              "      const buffers = [];\n",
              "      let downloaded = 0;\n",
              "\n",
              "      const channel = await google.colab.kernel.comms.open(id);\n",
              "      // Send a message to notify the kernel that we're ready.\n",
              "      channel.send({})\n",
              "\n",
              "      for await (const message of channel.messages) {\n",
              "        // Send a message to notify the kernel that we're ready.\n",
              "        channel.send({})\n",
              "        if (message.buffers) {\n",
              "          for (const buffer of message.buffers) {\n",
              "            buffers.push(buffer);\n",
              "            downloaded += buffer.byteLength;\n",
              "            progress.value = downloaded;\n",
              "          }\n",
              "        }\n",
              "      }\n",
              "      const blob = new Blob(buffers, {type: 'application/binary'});\n",
              "      const a = document.createElement('a');\n",
              "      a.href = window.URL.createObjectURL(blob);\n",
              "      a.download = filename;\n",
              "      div.appendChild(a);\n",
              "      a.click();\n",
              "      div.remove();\n",
              "    }\n",
              "  "
            ]
          },
          "metadata": {}
        },
        {
          "output_type": "display_data",
          "data": {
            "text/plain": [
              "<IPython.core.display.Javascript object>"
            ],
            "application/javascript": [
              "download(\"download_67026dfd-d6bc-4040-9f3e-f2b3076c804f\", \"feature_matrix.xlsx\", 69646732)"
            ]
          },
          "metadata": {}
        }
      ]
    }
  ]
}